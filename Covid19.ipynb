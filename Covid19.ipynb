{
 "cells": [
  {
   "cell_type": "code",
   "execution_count": 1,
   "metadata": {},
   "outputs": [],
   "source": [
    "import numpy as np\n",
    "import pandas as pd\n",
    "import matplotlib.pyplot as plt\n",
    "import datetime\n",
    "import warnings\n",
    "warnings.filterwarnings(\"ignore\")\n",
    "plt.style.available\n",
    "plt.style.use('fivethirtyeight')"
   ]
  },
  {
   "cell_type": "markdown",
   "metadata": {},
   "source": [
    "Making estimation for covid19 for colombia. Dataset imported daily from:\n",
    "- The data files for the four metrics we present are available to download here:\n",
    "- **Total confirmed cases:** https://covid.ourworldindata.org/data/total_cases.csv\n",
    "- **Total deaths:** https://covid.ourworldindata.org/data/total_deaths.csv\n",
    "- **New confirmed cases:** https://covid.ourworldindata.org/data/new_cases.csv\n",
    "- **New deaths:** https://covid.ourworldindata.org/data/new_deaths.csv\n",
    "- **Full dataset:** https://covid.ourworldindata.org/data/full_data.csv"
   ]
  },
  {
   "cell_type": "code",
   "execution_count": 2,
   "metadata": {},
   "outputs": [
    {
     "data": {
      "text/html": [
       "<div>\n",
       "<style scoped>\n",
       "    .dataframe tbody tr th:only-of-type {\n",
       "        vertical-align: middle;\n",
       "    }\n",
       "\n",
       "    .dataframe tbody tr th {\n",
       "        vertical-align: top;\n",
       "    }\n",
       "\n",
       "    .dataframe thead th {\n",
       "        text-align: right;\n",
       "    }\n",
       "</style>\n",
       "<table border=\"1\" class=\"dataframe\">\n",
       "  <thead>\n",
       "    <tr style=\"text-align: right;\">\n",
       "      <th></th>\n",
       "      <th>date</th>\n",
       "      <th>location</th>\n",
       "      <th>new_cases</th>\n",
       "      <th>new_deaths</th>\n",
       "      <th>total_cases</th>\n",
       "      <th>total_deaths</th>\n",
       "    </tr>\n",
       "  </thead>\n",
       "  <tbody>\n",
       "    <tr>\n",
       "      <th>555</th>\n",
       "      <td>2020-03-07</td>\n",
       "      <td>Colombia</td>\n",
       "      <td>NaN</td>\n",
       "      <td>NaN</td>\n",
       "      <td>1</td>\n",
       "      <td>NaN</td>\n",
       "    </tr>\n",
       "    <tr>\n",
       "      <th>556</th>\n",
       "      <td>2020-03-08</td>\n",
       "      <td>Colombia</td>\n",
       "      <td>0.0</td>\n",
       "      <td>NaN</td>\n",
       "      <td>1</td>\n",
       "      <td>NaN</td>\n",
       "    </tr>\n",
       "    <tr>\n",
       "      <th>557</th>\n",
       "      <td>2020-03-09</td>\n",
       "      <td>Colombia</td>\n",
       "      <td>0.0</td>\n",
       "      <td>NaN</td>\n",
       "      <td>1</td>\n",
       "      <td>NaN</td>\n",
       "    </tr>\n",
       "    <tr>\n",
       "      <th>558</th>\n",
       "      <td>2020-03-10</td>\n",
       "      <td>Colombia</td>\n",
       "      <td>2.0</td>\n",
       "      <td>NaN</td>\n",
       "      <td>3</td>\n",
       "      <td>NaN</td>\n",
       "    </tr>\n",
       "    <tr>\n",
       "      <th>559</th>\n",
       "      <td>2020-03-11</td>\n",
       "      <td>Colombia</td>\n",
       "      <td>0.0</td>\n",
       "      <td>NaN</td>\n",
       "      <td>3</td>\n",
       "      <td>NaN</td>\n",
       "    </tr>\n",
       "    <tr>\n",
       "      <th>560</th>\n",
       "      <td>2020-03-12</td>\n",
       "      <td>Colombia</td>\n",
       "      <td>6.0</td>\n",
       "      <td>NaN</td>\n",
       "      <td>9</td>\n",
       "      <td>NaN</td>\n",
       "    </tr>\n",
       "    <tr>\n",
       "      <th>561</th>\n",
       "      <td>2020-03-13</td>\n",
       "      <td>Colombia</td>\n",
       "      <td>0.0</td>\n",
       "      <td>NaN</td>\n",
       "      <td>9</td>\n",
       "      <td>NaN</td>\n",
       "    </tr>\n",
       "    <tr>\n",
       "      <th>562</th>\n",
       "      <td>2020-03-14</td>\n",
       "      <td>Colombia</td>\n",
       "      <td>7.0</td>\n",
       "      <td>NaN</td>\n",
       "      <td>16</td>\n",
       "      <td>NaN</td>\n",
       "    </tr>\n",
       "    <tr>\n",
       "      <th>563</th>\n",
       "      <td>2020-03-15</td>\n",
       "      <td>Colombia</td>\n",
       "      <td>8.0</td>\n",
       "      <td>NaN</td>\n",
       "      <td>24</td>\n",
       "      <td>NaN</td>\n",
       "    </tr>\n",
       "    <tr>\n",
       "      <th>564</th>\n",
       "      <td>2020-03-16</td>\n",
       "      <td>Colombia</td>\n",
       "      <td>0.0</td>\n",
       "      <td>NaN</td>\n",
       "      <td>24</td>\n",
       "      <td>NaN</td>\n",
       "    </tr>\n",
       "    <tr>\n",
       "      <th>565</th>\n",
       "      <td>2020-03-17</td>\n",
       "      <td>Colombia</td>\n",
       "      <td>21.0</td>\n",
       "      <td>NaN</td>\n",
       "      <td>45</td>\n",
       "      <td>NaN</td>\n",
       "    </tr>\n",
       "  </tbody>\n",
       "</table>\n",
       "</div>"
      ],
      "text/plain": [
       "           date  location  new_cases  new_deaths  total_cases  total_deaths\n",
       "555  2020-03-07  Colombia        NaN         NaN            1           NaN\n",
       "556  2020-03-08  Colombia        0.0         NaN            1           NaN\n",
       "557  2020-03-09  Colombia        0.0         NaN            1           NaN\n",
       "558  2020-03-10  Colombia        2.0         NaN            3           NaN\n",
       "559  2020-03-11  Colombia        0.0         NaN            3           NaN\n",
       "560  2020-03-12  Colombia        6.0         NaN            9           NaN\n",
       "561  2020-03-13  Colombia        0.0         NaN            9           NaN\n",
       "562  2020-03-14  Colombia        7.0         NaN           16           NaN\n",
       "563  2020-03-15  Colombia        8.0         NaN           24           NaN\n",
       "564  2020-03-16  Colombia        0.0         NaN           24           NaN\n",
       "565  2020-03-17  Colombia       21.0         NaN           45           NaN"
      ]
     },
     "execution_count": 2,
     "metadata": {},
     "output_type": "execute_result"
    }
   ],
   "source": [
    "data_full=pd.read_csv(\"https://covid.ourworldindata.org/data/full_data.csv\")\n",
    "#data_full[\"total_cases\"][533]==56\n",
    "data_full[(data_full[\"location\"]==\"Colombia\")]"
   ]
  },
  {
   "cell_type": "code",
   "execution_count": 3,
   "metadata": {},
   "outputs": [
    {
     "data": {
      "image/png": "[encoded data removed]",
      "text/plain": [
       "<Figure size 1440x360 with 1 Axes>"
      ]
     },
     "metadata": {},
     "output_type": "display_data"
    }
   ],
   "source": [
    "isworldwide=data_full[\"location\"]==\"World\"\n",
    "ischina=data_full[\"location\"]==\"China\"\n",
    "iscolombia=data_full[\"location\"]==\"Colombia\"\n",
    "isitaly=data_full[\"location\"]==\"Italy\"\n",
    "ismexico=data_full[\"location\"]==\"Mexico\"\n",
    "ischile=data_full[\"location\"]==\"Chile\"\n",
    "isecuador=data_full[\"location\"]==\"Ecuador\"\n",
    "ispanama=data_full[\"location\"]==\"Panama\"\n",
    "isvenezuela=data_full[\"location\"]==\"Venezuela\"\n",
    "\n",
    "\n",
    "plt.figure(figsize=(20,5))\n",
    "plt.plot(data_full[\"date\"][isworldwide],data_full[\"total_cases\"][isworldwide],label=\"WorldWide\")\n",
    "plt.plot(data_full[\"date\"][ischina],data_full[\"total_cases\"][ischina],label=\"China\")\n",
    "plt.plot(data_full[\"date\"][isitaly],data_full[\"total_cases\"][isitaly],label=\"Italy\")\n",
    "plt.plot(data_full[\"date\"][iscolombia],data_full[\"total_cases\"][iscolombia],label=\"Colombia\")\n",
    "plt.plot(data_full[\"date\"][ismexico],data_full[\"total_cases\"][ismexico],label=\"Mexico\")\n",
    "plt.plot(data_full[\"date\"][ispanama],data_full[\"total_cases\"][ispanama],label=\"Panama\")\n",
    "plt.plot(data_full[\"date\"][ischile],data_full[\"total_cases\"][ischile],label=\"Chile\")\n",
    "plt.plot(data_full[\"date\"][isecuador],data_full[\"total_cases\"][isecuador],label=\"Ecuador\")\n",
    "plt.plot(data_full[\"date\"][isvenezuela],data_full[\"total_cases\"][isvenezuela],label=\"Venezuela\")\n",
    "\n",
    "plt.xticks(rotation=90)\n",
    "plt.yscale(\"log\")\n",
    "plt.legend()\n",
    "plt.show()"
   ]
  },
  {
   "cell_type": "code",
   "execution_count": 4,
   "metadata": {},
   "outputs": [
    {
     "data": {
      "text/plain": [
       "array(['Afghanistan', 'Albania', 'Algeria', 'Andorra',\n",
       "       'Antigua and Barbuda', 'Argentina', 'Armenia', 'Aruba',\n",
       "       'Australia', 'Austria', 'Azerbaijan', 'Bahamas', 'Bahrain',\n",
       "       'Bangladesh', 'Belarus', 'Belgium', 'Benin', 'Bhutan', 'Bolivia',\n",
       "       'Bosnia and Herzegovina', 'Brazil', 'Brunei', 'Bulgaria',\n",
       "       'Burkina Faso', 'Cambodia', 'Cameroon', 'Canada', 'Cayman Islands',\n",
       "       'Central African Republic', 'Chile', 'China', 'Colombia', 'Congo',\n",
       "       'Costa Rica', \"Cote d'Ivoire\", 'Croatia', 'Cuba', 'Curacao',\n",
       "       'Cyprus', 'Czech Republic', 'Democratic Republic of Congo',\n",
       "       'Denmark', 'Dominican Republic', 'Ecuador', 'Egypt',\n",
       "       'Equatorial Guinea', 'Estonia', 'Ethiopia', 'Faeroe Islands',\n",
       "       'Finland', 'France', 'French Guiana', 'French Polynesia', 'Gabon',\n",
       "       'Georgia', 'Germany', 'Ghana', 'Gibraltar', 'Greece', 'Guadeloupe',\n",
       "       'Guam', 'Guatemala', 'Guernsey', 'Guinea', 'Guyana', 'Honduras',\n",
       "       'Hungary', 'Iceland', 'India', 'Indonesia', 'International',\n",
       "       'Iran', 'Iraq', 'Ireland', 'Israel', 'Italy', 'Jamaica', 'Japan',\n",
       "       'Jersey', 'Jordan', 'Kazakhstan', 'Kenya', 'Kuwait', 'Latvia',\n",
       "       'Lebanon', 'Liberia', 'Liechtenstein', 'Lithuania', 'Luxembourg',\n",
       "       'Macedonia', 'Malaysia', 'Maldives', 'Malta', 'Martinique',\n",
       "       'Mauritania', 'Mayotte', 'Mexico', 'Moldova', 'Monaco', 'Mongolia',\n",
       "       'Morocco', 'Namibia', 'Nepal', 'Netherlands', 'New Zealand',\n",
       "       'Nigeria', 'Norway', 'Oman', 'Pakistan', 'Palestine', 'Panama',\n",
       "       'Paraguay', 'Peru', 'Philippines', 'Poland', 'Portugal',\n",
       "       'Puerto Rico', 'Qatar', 'Reunion', 'Romania', 'Russia', 'Rwanda',\n",
       "       'Saint Barthlemy', 'Saint Lucia', 'Saint Martin (French part)',\n",
       "       'Saint Vincent and the Grenadines', 'San Marino', 'Saudi Arabia',\n",
       "       'Senegal', 'Serbia', 'Seychelles', 'Singapore', 'Slovakia',\n",
       "       'Slovenia', 'Somalia', 'South Africa', 'South Korea', 'Spain',\n",
       "       'Sri Lanka', 'Sudan', 'Suriname', 'Swaziland', 'Sweden',\n",
       "       'Switzerland', 'Tanzania', 'Thailand', 'Togo',\n",
       "       'Trinidad and Tobago', 'Tunisia', 'Turkey', 'Ukraine',\n",
       "       'United Arab Emirates', 'United Kingdom', 'United States',\n",
       "       'United States Virgin Islands', 'Uruguay', 'Uzbekistan', 'Vatican',\n",
       "       'Venezuela', 'Vietnam', 'World'], dtype=object)"
      ]
     },
     "execution_count": 4,
     "metadata": {},
     "output_type": "execute_result"
    }
   ],
   "source": [
    "np.unique(data_full[\"location\"])"
   ]
  },
  {
   "cell_type": "code",
   "execution_count": 5,
   "metadata": {},
   "outputs": [
    {
     "data": {
      "image/png": "[encoded data removed]",
      "text/plain": [
       "<Figure size 432x288 with 1 Axes>"
      ]
     },
     "metadata": {},
     "output_type": "display_data"
    }
   ],
   "source": [
    "plt.hist(data_full[\"new_cases\"][isworldwide],histtype='stepfilled',alpha=0.6)\n",
    "plt.hist(data_full[\"new_cases\"][ischina],histtype='stepfilled',alpha=0.6)\n",
    "plt.show()"
   ]
  },
  {
   "cell_type": "code",
   "execution_count": 6,
   "metadata": {},
   "outputs": [],
   "source": [
    "from sklearn.linear_model import LogisticRegression\n",
    "from sklearn.metrics import classification_report, confusion_matrix"
   ]
  },
  {
   "cell_type": "code",
   "execution_count": 7,
   "metadata": {},
   "outputs": [],
   "source": [
    "model = LogisticRegression(solver='liblinear', random_state=0)"
   ]
  },
  {
   "cell_type": "code",
   "execution_count": 8,
   "metadata": {},
   "outputs": [
    {
     "data": {
      "text/plain": [
       "array([ 0,  1,  2,  3,  4,  5,  6,  7,  8,  9, 10, 11, 12, 13, 14, 15, 16,\n",
       "       17, 18, 19, 20, 21, 22, 23, 24, 25, 26, 27, 28, 29, 30, 31, 32, 33,\n",
       "       34, 35, 36, 37, 38, 39, 40, 41, 42, 43, 44, 45, 46, 47, 48, 49, 50,\n",
       "       51, 52, 53, 54, 55, 56])"
      ]
     },
     "execution_count": 8,
     "metadata": {},
     "output_type": "execute_result"
    }
   ],
   "source": [
    "dates_world=np.arange(0,len(data_full[isworldwide]),1)\n",
    "dates_world"
   ]
  },
  {
   "cell_type": "code",
   "execution_count": 9,
   "metadata": {},
   "outputs": [
    {
     "data": {
      "text/plain": [
       "LogisticRegression(C=1.0, class_weight=None, dual=False, fit_intercept=True,\n",
       "                   intercept_scaling=1, l1_ratio=None, max_iter=100,\n",
       "                   multi_class='warn', n_jobs=None, penalty='l2',\n",
       "                   random_state=0, solver='liblinear', tol=0.0001, verbose=0,\n",
       "                   warm_start=False)"
      ]
     },
     "execution_count": 9,
     "metadata": {},
     "output_type": "execute_result"
    }
   ],
   "source": [
    "LogisticRegression(C=1.0, class_weight=None, dual=False, fit_intercept=True,\n",
    "                   intercept_scaling=1, l1_ratio=None, max_iter=100,\n",
    "                   multi_class='warn', n_jobs=None, penalty='l2',\n",
    "                   random_state=0, solver='liblinear', tol=0.0001, verbose=0,\n",
    "                   warm_start=False)"
   ]
  },
  {
   "cell_type": "code",
   "execution_count": 10,
   "metadata": {},
   "outputs": [],
   "source": [
    "model = LogisticRegression(solver='newton-cg', random_state=0).fit(dates_world.reshape(-1,1), np.array(data_full[isworldwide][\"total_cases\"]))"
   ]
  },
  {
   "cell_type": "code",
   "execution_count": 11,
   "metadata": {},
   "outputs": [
    {
     "data": {
      "text/plain": [
       "array([   282,    314,    581,    846,   1320,   2014,   2798,   4593,\n",
       "         6065,   7818,   9826,  11953,  14557,  17391,  20630,  24544,\n",
       "        28276,  31481,  34886,  37558,  40554,  43103,  45171,  46997,\n",
       "        49053,  50580,  51857,  71429,  73332,  75204,  75748,  76769,\n",
       "        77794,  78811,  79331,  80239,  81109,  82294,  83652,  85403,\n",
       "        87137,  88948,  90869,  93090,  95324,  98192, 101927, 105592,\n",
       "       109577, 113702, 118319, 125260, 132758, 142534, 153517, 167506,\n",
       "       179112])"
      ]
     },
     "execution_count": 11,
     "metadata": {},
     "output_type": "execute_result"
    }
   ],
   "source": [
    "model.classes_"
   ]
  },
  {
   "cell_type": "code",
   "execution_count": 12,
   "metadata": {},
   "outputs": [
    {
     "data": {
      "text/plain": [
       "array([ 22.50458612,  22.097425  ,  21.68815792,  21.27704881,\n",
       "        20.861285  ,  20.43796904,  20.00474437,  19.55993894,\n",
       "        19.10184342,  18.62971738,  18.14262947,  17.64012014,\n",
       "        17.12167728,  16.58685428,  16.03517085,  15.46633717,\n",
       "        14.87979848,  14.27501665,  13.6516576 ,  13.00872193,\n",
       "        12.34570665,  11.66186432,  10.95634963,  10.22825764,\n",
       "         9.47657231,   8.70016908,   7.89790419,   7.06858235,\n",
       "         6.21065764,   5.32248262,   4.40231643,   3.44819657,\n",
       "         2.4579356 ,   1.42906003,   0.35886108,  -0.75576145,\n",
       "        -1.91850917,  -3.1335524 ,  -4.40544371,  -5.73940835,\n",
       "        -7.14168274,  -8.619666  , -10.18207898, -11.8393168 ,\n",
       "       -13.60400003, -15.49173849, -17.52223138, -19.72092048,\n",
       "       -22.12153433, -24.77014051, -27.73189995, -31.10281853,\n",
       "       -35.03085886, -39.75595292, -45.69228137, -53.61015529,\n",
       "       -65.04566423])"
      ]
     },
     "execution_count": 12,
     "metadata": {},
     "output_type": "execute_result"
    }
   ],
   "source": [
    "model.intercept_"
   ]
  },
  {
   "cell_type": "code",
   "execution_count": 13,
   "metadata": {},
   "outputs": [
    {
     "data": {
      "text/plain": [
       "array([[-1.56349954e+00],\n",
       "       [-1.35196225e+00],\n",
       "       [-1.20324936e+00],\n",
       "       [-1.08989612e+00],\n",
       "       [-9.98086087e-01],\n",
       "       [-9.20370494e-01],\n",
       "       [-8.52429818e-01],\n",
       "       [-7.91607605e-01],\n",
       "       [-7.36128123e-01],\n",
       "       [-6.84833693e-01],\n",
       "       [-6.36871966e-01],\n",
       "       [-5.91640997e-01],\n",
       "       [-5.48673920e-01],\n",
       "       [-5.07611158e-01],\n",
       "       [-4.68162686e-01],\n",
       "       [-4.30104327e-01],\n",
       "       [-3.93236472e-01],\n",
       "       [-3.57393825e-01],\n",
       "       [-3.22447771e-01],\n",
       "       [-2.88255659e-01],\n",
       "       [-2.54719212e-01],\n",
       "       [-2.21742171e-01],\n",
       "       [-1.89236530e-01],\n",
       "       [-1.57122711e-01],\n",
       "       [-1.25326192e-01],\n",
       "       [-9.37767804e-02],\n",
       "       [-6.24112373e-02],\n",
       "       [-3.11710338e-02],\n",
       "       [ 8.64055306e-06],\n",
       "       [ 3.11896242e-02],\n",
       "       [ 6.24309859e-02],\n",
       "       [ 9.37934837e-02],\n",
       "       [ 1.25339488e-01],\n",
       "       [ 1.57134647e-01],\n",
       "       [ 1.89246091e-01],\n",
       "       [ 2.21746745e-01],\n",
       "       [ 2.54720579e-01],\n",
       "       [ 2.88257648e-01],\n",
       "       [ 3.22451651e-01],\n",
       "       [ 3.57406931e-01],\n",
       "       [ 3.93246098e-01],\n",
       "       [ 4.30112026e-01],\n",
       "       [ 4.68169905e-01],\n",
       "       [ 5.07613678e-01],\n",
       "       [ 5.48676374e-01],\n",
       "       [ 5.91644177e-01],\n",
       "       [ 6.36876549e-01],\n",
       "       [ 6.84836400e-01],\n",
       "       [ 7.36136370e-01],\n",
       "       [ 7.91612334e-01],\n",
       "       [ 8.52445654e-01],\n",
       "       [ 9.20375219e-01],\n",
       "       [ 9.98076465e-01],\n",
       "       [ 1.08987682e+00],\n",
       "       [ 1.20322382e+00],\n",
       "       [ 1.35192229e+00],\n",
       "       [ 1.56339706e+00]])"
      ]
     },
     "execution_count": 13,
     "metadata": {},
     "output_type": "execute_result"
    }
   ],
   "source": [
    "model.coef_"
   ]
  },
  {
   "cell_type": "code",
   "execution_count": 14,
   "metadata": {},
   "outputs": [
    {
     "data": {
      "text/plain": [
       "array([[3.40077990e-01, 2.26334470e-01, 1.50317057e-01, ...,\n",
       "        8.20455999e-31, 2.98790194e-34, 3.22840426e-39],\n",
       "       [2.50078046e-01, 2.05644558e-01, 1.58474713e-01, ...,\n",
       "        9.59676872e-30, 4.05522538e-33, 5.41350936e-38],\n",
       "       [1.71080210e-01, 1.73824468e-01, 1.55431431e-01, ...,\n",
       "        1.04429194e-28, 5.12024588e-32, 8.44494912e-37],\n",
       "       ...,\n",
       "       [8.39698915e-37, 5.10796154e-32, 1.04257010e-28, ...,\n",
       "        1.55426724e-01, 1.73819521e-01, 1.71082527e-01],\n",
       "       [5.38244584e-38, 4.04550902e-33, 9.58111403e-30, ...,\n",
       "        1.58472702e-01, 2.05639358e-01, 2.50066590e-01],\n",
       "       [3.20974500e-39, 2.98080465e-34, 8.19146418e-31, ...,\n",
       "        1.50320432e-01, 2.26333435e-01, 3.40048194e-01]])"
      ]
     },
     "execution_count": 14,
     "metadata": {},
     "output_type": "execute_result"
    }
   ],
   "source": [
    "model.predict_proba(dates_world.reshape(-1,1))"
   ]
  },
  {
   "cell_type": "code",
   "execution_count": 15,
   "metadata": {},
   "outputs": [
    {
     "data": {
      "text/plain": [
       "array([   282,    282,    314,    581,    846,   1320,   2014,   2798,\n",
       "         4593,   6065,   7818,   9826,  11953,  14557,  20630,  24544,\n",
       "        28276,  31481,  34886,  37558,  40554,  43103,  45171,  46997,\n",
       "        49053,  50580,  51857,  71429,  73332,  75204,  75748,  76769,\n",
       "        77794,  78811,  79331,  80239,  81109,  82294,  83652,  85403,\n",
       "        87137,  88948,  90869,  95324,  98192, 101927, 105592, 109577,\n",
       "       113702, 118319, 125260, 132758, 142534, 153517, 167506, 179112,\n",
       "       179112])"
      ]
     },
     "execution_count": 15,
     "metadata": {},
     "output_type": "execute_result"
    }
   ],
   "source": [
    "model.predict(dates_world.reshape(-1,1))"
   ]
  },
  {
   "cell_type": "code",
   "execution_count": 16,
   "metadata": {},
   "outputs": [
    {
     "data": {
      "text/plain": [
       "0.543859649122807"
      ]
     },
     "execution_count": 16,
     "metadata": {},
     "output_type": "execute_result"
    }
   ],
   "source": [
    "model.score(dates_world.reshape(-1,1), np.array(data_full[isworldwide][\"total_cases\"]))"
   ]
  },
  {
   "cell_type": "markdown",
   "metadata": {},
   "source": [
    "## The model\n",
    "We try to fit model of grows by mean of a logistic equation plus a relaxion term:\n",
    "\n",
    "$f=\\frac{a}{1+e^{-bt+c}}(1-e^{-dt+e})$"
   ]
  },
  {
   "cell_type": "markdown",
   "metadata": {},
   "source": [
    "In the case of colombia.."
   ]
  },
  {
   "cell_type": "code",
   "execution_count": 17,
   "metadata": {},
   "outputs": [],
   "source": [
    "from scipy.optimize import curve_fit\n",
    "def growth(t,a,b,c,d,e):\n",
    "    return np.exp(a*t+b)#(a)/(1+np.exp(-b*t+c))#*(1-t*np.exp(-d*t+e))"
   ]
  },
  {
   "cell_type": "code",
   "execution_count": 18,
   "metadata": {},
   "outputs": [],
   "source": [
    "data_prove,name=data_full[iscolombia],\"Colombia\"\n",
    "popt, pcov = curve_fit(growth, np.arange(0,len(data_prove),1), np.array(data_prove[\"total_cases\"]),method=\"dogbox\")"
   ]
  },
  {
   "cell_type": "code",
   "execution_count": 19,
   "metadata": {},
   "outputs": [
    {
     "data": {
      "text/plain": [
       "array([0.36904822, 0.07248167, 1.        , 1.        , 1.        ])"
      ]
     },
     "execution_count": 19,
     "metadata": {},
     "output_type": "execute_result"
    }
   ],
   "source": [
    "popt"
   ]
  },
  {
   "cell_type": "code",
   "execution_count": 20,
   "metadata": {},
   "outputs": [
    {
     "data": {
      "image/png": "[encoded data removed]",
      "text/plain": [
       "<Figure size 576x432 with 1 Axes>"
      ]
     },
     "metadata": {},
     "output_type": "display_data"
    }
   ],
   "source": [
    "plt.figure(figsize=(8,6))\n",
    "plt.plot(np.arange(0,len(data_prove[\"total_cases\"]),1),data_prove[\"total_cases\"],label=name,marker=\".\",markersize=12)\n",
    "plt.plot(np.arange(0,len(data_prove[\"total_cases\"]),1), growth(np.arange(0,len(data_prove),1), *popt),label=\"Best fit \"+name)\n",
    "plt.legend()\n",
    "plt.xticks(np.arange(0,len(data_prove[\"total_cases\"]),1),rotation=0)\n",
    "plt.xlabel(\"Days since first infected\")\n",
    "plt.ylabel(\"Total cases\")\n",
    "plt.show()"
   ]
  },
  {
   "cell_type": "markdown",
   "metadata": {},
   "source": [
    "Estimation for future days."
   ]
  },
  {
   "cell_type": "code",
   "execution_count": 21,
   "metadata": {},
   "outputs": [],
   "source": [
    "rng = pd.date_range(data_prove[\"date\"].iloc[0], periods=30, freq='D')\n",
    "df = pd.DataFrame({ 'Date': rng, 'Val': growth(np.arange(0,len(rng),1), *popt) }) \n",
    "#df"
   ]
  },
  {
   "cell_type": "code",
   "execution_count": 22,
   "metadata": {},
   "outputs": [
    {
     "data": {
      "image/png": "[encoded data removed]",
      "text/plain": [
       "<Figure size 576x432 with 1 Axes>"
      ]
     },
     "metadata": {},
     "output_type": "display_data"
    }
   ],
   "source": [
    "plt.figure(figsize=(8,6))\n",
    "plt.plot(np.arange(0,len(df[\"Date\"]),1), df[\"Val\"],label=\"Best fit \"+name,marker=\".\",markersize=12)\n",
    "plt.plot(np.arange(0,len(data_prove[\"total_cases\"]),1),data_prove[\"total_cases\"],label=name,marker=\".\",markersize=12)\n",
    "\n",
    "plt.legend()\n",
    "#plt.yscale(\"log\")\n",
    "plt.xticks(rotation=0)\n",
    "plt.xlabel(\"Days since first infected\")\n",
    "plt.ylabel(\"Total cases\")\n",
    "\n",
    "plt.show()"
   ]
  },
  {
   "cell_type": "code",
   "execution_count": 23,
   "metadata": {},
   "outputs": [
    {
     "data": {
      "text/html": [
       "<div>\n",
       "<style scoped>\n",
       "    .dataframe tbody tr th:only-of-type {\n",
       "        vertical-align: middle;\n",
       "    }\n",
       "\n",
       "    .dataframe tbody tr th {\n",
       "        vertical-align: top;\n",
       "    }\n",
       "\n",
       "    .dataframe thead th {\n",
       "        text-align: right;\n",
       "    }\n",
       "</style>\n",
       "<table border=\"1\" class=\"dataframe\">\n",
       "  <thead>\n",
       "    <tr style=\"text-align: right;\">\n",
       "      <th></th>\n",
       "      <th>Date</th>\n",
       "      <th>Val</th>\n",
       "    </tr>\n",
       "  </thead>\n",
       "  <tbody>\n",
       "    <tr>\n",
       "      <th>0</th>\n",
       "      <td>2020-03-07</td>\n",
       "      <td>1.075173</td>\n",
       "    </tr>\n",
       "    <tr>\n",
       "      <th>1</th>\n",
       "      <td>2020-03-08</td>\n",
       "      <td>1.555085</td>\n",
       "    </tr>\n",
       "    <tr>\n",
       "      <th>2</th>\n",
       "      <td>2020-03-09</td>\n",
       "      <td>2.249208</td>\n",
       "    </tr>\n",
       "    <tr>\n",
       "      <th>3</th>\n",
       "      <td>2020-03-10</td>\n",
       "      <td>3.253158</td>\n",
       "    </tr>\n",
       "    <tr>\n",
       "      <th>4</th>\n",
       "      <td>2020-03-11</td>\n",
       "      <td>4.705229</td>\n",
       "    </tr>\n",
       "    <tr>\n",
       "      <th>5</th>\n",
       "      <td>2020-03-12</td>\n",
       "      <td>6.805443</td>\n",
       "    </tr>\n",
       "    <tr>\n",
       "      <th>6</th>\n",
       "      <td>2020-03-13</td>\n",
       "      <td>9.843103</td>\n",
       "    </tr>\n",
       "    <tr>\n",
       "      <th>7</th>\n",
       "      <td>2020-03-14</td>\n",
       "      <td>14.236644</td>\n",
       "    </tr>\n",
       "    <tr>\n",
       "      <th>8</th>\n",
       "      <td>2020-03-15</td>\n",
       "      <td>20.591275</td>\n",
       "    </tr>\n",
       "    <tr>\n",
       "      <th>9</th>\n",
       "      <td>2020-03-16</td>\n",
       "      <td>29.782341</td>\n",
       "    </tr>\n",
       "    <tr>\n",
       "      <th>10</th>\n",
       "      <td>2020-03-17</td>\n",
       "      <td>43.075908</td>\n",
       "    </tr>\n",
       "    <tr>\n",
       "      <th>11</th>\n",
       "      <td>2020-03-18</td>\n",
       "      <td>62.303156</td>\n",
       "    </tr>\n",
       "    <tr>\n",
       "      <th>12</th>\n",
       "      <td>2020-03-19</td>\n",
       "      <td>90.112627</td>\n",
       "    </tr>\n",
       "    <tr>\n",
       "      <th>13</th>\n",
       "      <td>2020-03-20</td>\n",
       "      <td>130.335060</td>\n",
       "    </tr>\n",
       "    <tr>\n",
       "      <th>14</th>\n",
       "      <td>2020-03-21</td>\n",
       "      <td>188.511071</td>\n",
       "    </tr>\n",
       "    <tr>\n",
       "      <th>15</th>\n",
       "      <td>2020-03-22</td>\n",
       "      <td>272.654372</td>\n",
       "    </tr>\n",
       "    <tr>\n",
       "      <th>16</th>\n",
       "      <td>2020-03-23</td>\n",
       "      <td>394.355653</td>\n",
       "    </tr>\n",
       "    <tr>\n",
       "      <th>17</th>\n",
       "      <td>2020-03-24</td>\n",
       "      <td>570.379195</td>\n",
       "    </tr>\n",
       "    <tr>\n",
       "      <th>18</th>\n",
       "      <td>2020-03-25</td>\n",
       "      <td>824.972137</td>\n",
       "    </tr>\n",
       "    <tr>\n",
       "      <th>19</th>\n",
       "      <td>2020-03-26</td>\n",
       "      <td>1193.204510</td>\n",
       "    </tr>\n",
       "    <tr>\n",
       "      <th>20</th>\n",
       "      <td>2020-03-27</td>\n",
       "      <td>1725.800106</td>\n",
       "    </tr>\n",
       "    <tr>\n",
       "      <th>21</th>\n",
       "      <td>2020-03-28</td>\n",
       "      <td>2496.123658</td>\n",
       "    </tr>\n",
       "    <tr>\n",
       "      <th>22</th>\n",
       "      <td>2020-03-29</td>\n",
       "      <td>3610.286785</td>\n",
       "    </tr>\n",
       "    <tr>\n",
       "      <th>23</th>\n",
       "      <td>2020-03-30</td>\n",
       "      <td>5221.764806</td>\n",
       "    </tr>\n",
       "    <tr>\n",
       "      <th>24</th>\n",
       "      <td>2020-03-31</td>\n",
       "      <td>7552.537877</td>\n",
       "    </tr>\n",
       "    <tr>\n",
       "      <th>25</th>\n",
       "      <td>2020-04-01</td>\n",
       "      <td>10923.668627</td>\n",
       "    </tr>\n",
       "    <tr>\n",
       "      <th>26</th>\n",
       "      <td>2020-04-02</td>\n",
       "      <td>15799.528345</td>\n",
       "    </tr>\n",
       "    <tr>\n",
       "      <th>27</th>\n",
       "      <td>2020-04-03</td>\n",
       "      <td>22851.763858</td>\n",
       "    </tr>\n",
       "    <tr>\n",
       "      <th>28</th>\n",
       "      <td>2020-04-04</td>\n",
       "      <td>33051.816487</td>\n",
       "    </tr>\n",
       "    <tr>\n",
       "      <th>29</th>\n",
       "      <td>2020-04-05</td>\n",
       "      <td>47804.737518</td>\n",
       "    </tr>\n",
       "  </tbody>\n",
       "</table>\n",
       "</div>"
      ],
      "text/plain": [
       "         Date           Val\n",
       "0  2020-03-07      1.075173\n",
       "1  2020-03-08      1.555085\n",
       "2  2020-03-09      2.249208\n",
       "3  2020-03-10      3.253158\n",
       "4  2020-03-11      4.705229\n",
       "5  2020-03-12      6.805443\n",
       "6  2020-03-13      9.843103\n",
       "7  2020-03-14     14.236644\n",
       "8  2020-03-15     20.591275\n",
       "9  2020-03-16     29.782341\n",
       "10 2020-03-17     43.075908\n",
       "11 2020-03-18     62.303156\n",
       "12 2020-03-19     90.112627\n",
       "13 2020-03-20    130.335060\n",
       "14 2020-03-21    188.511071\n",
       "15 2020-03-22    272.654372\n",
       "16 2020-03-23    394.355653\n",
       "17 2020-03-24    570.379195\n",
       "18 2020-03-25    824.972137\n",
       "19 2020-03-26   1193.204510\n",
       "20 2020-03-27   1725.800106\n",
       "21 2020-03-28   2496.123658\n",
       "22 2020-03-29   3610.286785\n",
       "23 2020-03-30   5221.764806\n",
       "24 2020-03-31   7552.537877\n",
       "25 2020-04-01  10923.668627\n",
       "26 2020-04-02  15799.528345\n",
       "27 2020-04-03  22851.763858\n",
       "28 2020-04-04  33051.816487\n",
       "29 2020-04-05  47804.737518"
      ]
     },
     "execution_count": 23,
     "metadata": {},
     "output_type": "execute_result"
    }
   ],
   "source": [
    "df"
   ]
  },
  {
   "cell_type": "code",
   "execution_count": null,
   "metadata": {},
   "outputs": [],
   "source": []
  },
  {
   "cell_type": "code",
   "execution_count": null,
   "metadata": {},
   "outputs": [],
   "source": []
  }
 ],
 "metadata": {
  "kernelspec": {
   "display_name": "Python 3",
   "language": "python",
   "name": "python3"
  },
  "language_info": {
   "codemirror_mode": {
    "name": "ipython",
    "version": 3
   },
   "file_extension": ".py",
   "mimetype": "text/x-python",
   "name": "python",
   "nbconvert_exporter": "python",
   "pygments_lexer": "ipython3",
   "version": "3.7.5"
  }
 },
 "nbformat": 4,
 "nbformat_minor": 4
}
