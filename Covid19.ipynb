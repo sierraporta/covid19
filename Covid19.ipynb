{
 "cells": [
  {
   "cell_type": "code",
   "execution_count": 33,
   "metadata": {},
   "outputs": [
    {
     "data": {
      "text/plain": [
       "['seaborn-whitegrid',\n",
       " 'seaborn-dark-palette',\n",
       " 'seaborn-darkgrid',\n",
       " 'bmh',\n",
       " 'ggplot',\n",
       " 'Solarize_Light2',\n",
       " 'seaborn-notebook',\n",
       " '_classic_test',\n",
       " 'seaborn-talk',\n",
       " 'seaborn-colorblind',\n",
       " 'seaborn-white',\n",
       " 'classic',\n",
       " 'fivethirtyeight',\n",
       " 'seaborn-bright',\n",
       " 'grayscale',\n",
       " 'seaborn',\n",
       " 'seaborn-deep',\n",
       " 'fast',\n",
       " 'dark_background',\n",
       " 'seaborn-paper',\n",
       " 'seaborn-pastel',\n",
       " 'seaborn-ticks',\n",
       " 'tableau-colorblind10',\n",
       " 'seaborn-poster',\n",
       " 'seaborn-dark',\n",
       " 'seaborn-muted']"
      ]
     },
     "execution_count": 33,
     "metadata": {},
     "output_type": "execute_result"
    }
   ],
   "source": [
    "import numpy as np\n",
    "import pandas as pd\n",
    "import matplotlib.pyplot as plt\n",
    "import datetime\n",
    "import warnings\n",
    "warnings.filterwarnings(\"ignore\")\n",
    "plt.style.available\n",
    "#plt.style.use('bmh')"
   ]
  },
  {
   "cell_type": "markdown",
   "metadata": {},
   "source": [
    "Making estimation for covid19 for colombia. Dataset imported daily from:\n",
    "- The data files for the four metrics we present are available to download here:\n",
    "- **Total confirmed cases:** https://covid.ourworldindata.org/data/total_cases.csv\n",
    "- **Total deaths:** https://covid.ourworldindata.org/data/total_deaths.csv\n",
    "- **New confirmed cases:** https://covid.ourworldindata.org/data/new_cases.csv\n",
    "- **New deaths:** https://covid.ourworldindata.org/data/new_deaths.csv\n",
    "- **Full dataset:** https://covid.ourworldindata.org/data/full_data.csv"
   ]
  },
  {
   "cell_type": "code",
   "execution_count": 30,
   "metadata": {},
   "outputs": [
    {
     "data": {
      "text/html": [
       "<div>\n",
       "<style scoped>\n",
       "    .dataframe tbody tr th:only-of-type {\n",
       "        vertical-align: middle;\n",
       "    }\n",
       "\n",
       "    .dataframe tbody tr th {\n",
       "        vertical-align: top;\n",
       "    }\n",
       "\n",
       "    .dataframe thead th {\n",
       "        text-align: right;\n",
       "    }\n",
       "</style>\n",
       "<table border=\"1\" class=\"dataframe\">\n",
       "  <thead>\n",
       "    <tr style=\"text-align: right;\">\n",
       "      <th></th>\n",
       "      <th>date</th>\n",
       "      <th>location</th>\n",
       "      <th>new_cases</th>\n",
       "      <th>new_deaths</th>\n",
       "      <th>total_cases</th>\n",
       "      <th>total_deaths</th>\n",
       "    </tr>\n",
       "  </thead>\n",
       "  <tbody>\n",
       "    <tr>\n",
       "      <th>524</th>\n",
       "      <td>2020-03-07</td>\n",
       "      <td>Colombia</td>\n",
       "      <td>NaN</td>\n",
       "      <td>NaN</td>\n",
       "      <td>1.0</td>\n",
       "      <td>NaN</td>\n",
       "    </tr>\n",
       "    <tr>\n",
       "      <th>525</th>\n",
       "      <td>2020-03-08</td>\n",
       "      <td>Colombia</td>\n",
       "      <td>0.0</td>\n",
       "      <td>NaN</td>\n",
       "      <td>1.0</td>\n",
       "      <td>NaN</td>\n",
       "    </tr>\n",
       "    <tr>\n",
       "      <th>526</th>\n",
       "      <td>2020-03-09</td>\n",
       "      <td>Colombia</td>\n",
       "      <td>0.0</td>\n",
       "      <td>NaN</td>\n",
       "      <td>1.0</td>\n",
       "      <td>NaN</td>\n",
       "    </tr>\n",
       "    <tr>\n",
       "      <th>527</th>\n",
       "      <td>2020-03-10</td>\n",
       "      <td>Colombia</td>\n",
       "      <td>2.0</td>\n",
       "      <td>NaN</td>\n",
       "      <td>3.0</td>\n",
       "      <td>NaN</td>\n",
       "    </tr>\n",
       "    <tr>\n",
       "      <th>528</th>\n",
       "      <td>2020-03-11</td>\n",
       "      <td>Colombia</td>\n",
       "      <td>0.0</td>\n",
       "      <td>NaN</td>\n",
       "      <td>3.0</td>\n",
       "      <td>NaN</td>\n",
       "    </tr>\n",
       "    <tr>\n",
       "      <th>529</th>\n",
       "      <td>2020-03-12</td>\n",
       "      <td>Colombia</td>\n",
       "      <td>6.0</td>\n",
       "      <td>NaN</td>\n",
       "      <td>9.0</td>\n",
       "      <td>NaN</td>\n",
       "    </tr>\n",
       "    <tr>\n",
       "      <th>530</th>\n",
       "      <td>2020-03-13</td>\n",
       "      <td>Colombia</td>\n",
       "      <td>0.0</td>\n",
       "      <td>NaN</td>\n",
       "      <td>9.0</td>\n",
       "      <td>NaN</td>\n",
       "    </tr>\n",
       "    <tr>\n",
       "      <th>531</th>\n",
       "      <td>2020-03-14</td>\n",
       "      <td>Colombia</td>\n",
       "      <td>7.0</td>\n",
       "      <td>NaN</td>\n",
       "      <td>16.0</td>\n",
       "      <td>NaN</td>\n",
       "    </tr>\n",
       "    <tr>\n",
       "      <th>532</th>\n",
       "      <td>2020-03-15</td>\n",
       "      <td>Colombia</td>\n",
       "      <td>8.0</td>\n",
       "      <td>NaN</td>\n",
       "      <td>24.0</td>\n",
       "      <td>NaN</td>\n",
       "    </tr>\n",
       "    <tr>\n",
       "      <th>533</th>\n",
       "      <td>2020-03-16</td>\n",
       "      <td>Colombia</td>\n",
       "      <td>0.0</td>\n",
       "      <td>NaN</td>\n",
       "      <td>24.0</td>\n",
       "      <td>NaN</td>\n",
       "    </tr>\n",
       "  </tbody>\n",
       "</table>\n",
       "</div>"
      ],
      "text/plain": [
       "           date  location  new_cases  new_deaths  total_cases  total_deaths\n",
       "524  2020-03-07  Colombia        NaN         NaN          1.0           NaN\n",
       "525  2020-03-08  Colombia        0.0         NaN          1.0           NaN\n",
       "526  2020-03-09  Colombia        0.0         NaN          1.0           NaN\n",
       "527  2020-03-10  Colombia        2.0         NaN          3.0           NaN\n",
       "528  2020-03-11  Colombia        0.0         NaN          3.0           NaN\n",
       "529  2020-03-12  Colombia        6.0         NaN          9.0           NaN\n",
       "530  2020-03-13  Colombia        0.0         NaN          9.0           NaN\n",
       "531  2020-03-14  Colombia        7.0         NaN         16.0           NaN\n",
       "532  2020-03-15  Colombia        8.0         NaN         24.0           NaN\n",
       "533  2020-03-16  Colombia        0.0         NaN         24.0           NaN"
      ]
     },
     "execution_count": 30,
     "metadata": {},
     "output_type": "execute_result"
    }
   ],
   "source": [
    "data_full=pd.read_csv(\"https://covid.ourworldindata.org/data/full_data.csv\")\n",
    "data_full[data_full[\"location\"]==\"Colombia\"]"
   ]
  },
  {
   "cell_type": "code",
   "execution_count": 31,
   "metadata": {},
   "outputs": [
    {
     "data": {
      "image/png": "[encoded data removed]",
      "text/plain": [
       "<Figure size 1440x360 with 1 Axes>"
      ]
     },
     "metadata": {
      "needs_background": "light"
     },
     "output_type": "display_data"
    }
   ],
   "source": [
    "isworldwide=data_full[\"location\"]==\"World\"\n",
    "ischina=data_full[\"location\"]==\"China\"\n",
    "iscolombia=data_full[\"location\"]==\"Colombia\"\n",
    "isitaly=data_full[\"location\"]==\"Italy\"\n",
    "ismexico=data_full[\"location\"]==\"Mexico\"\n",
    "\n",
    "plt.figure(figsize=(20,5))\n",
    "plt.plot(data_full[\"date\"][isworldwide],data_full[\"total_cases\"][isworldwide],label=\"WorldWide\")\n",
    "plt.plot(data_full[\"date\"][ischina],data_full[\"total_cases\"][ischina],label=\"China\")\n",
    "plt.plot(data_full[\"date\"][isitaly],data_full[\"total_cases\"][isitaly],label=\"Italy\")\n",
    "plt.plot(data_full[\"date\"][iscolombia],data_full[\"total_cases\"][iscolombia],label=\"Colombia\")\n",
    "plt.plot(data_full[\"date\"][ismexico],data_full[\"total_cases\"][ismexico],label=\"Mexico\")\n",
    "plt.xticks(rotation=45)\n",
    "plt.yscale(\"log\")\n",
    "plt.legend()\n",
    "plt.show()"
   ]
  },
  {
   "cell_type": "code",
   "execution_count": 4,
   "metadata": {},
   "outputs": [
    {
     "data": {
      "text/plain": [
       "array(['Afghanistan', 'Albania', 'Algeria', 'Andorra',\n",
       "       'Antigua and Barbuda', 'Argentina', 'Armenia', 'Australia',\n",
       "       'Austria', 'Azerbaijan', 'Bahrain', 'Bangladesh', 'Belarus',\n",
       "       'Belgium', 'Bhutan', 'Bolivia', 'Bosnia and Herzegovina', 'Brazil',\n",
       "       'Brunei', 'Bulgaria', 'Burkina Faso', 'Cambodia', 'Cameroon',\n",
       "       'Canada', 'Cayman Islands', 'Central African Republic', 'Chile',\n",
       "       'China', 'Colombia', 'Congo', 'Costa Rica', \"Cote d'Ivoire\",\n",
       "       'Croatia', 'Cuba', 'Curacao', 'Cyprus', 'Czech Republic',\n",
       "       'Democratic Republic of Congo', 'Denmark', 'Dominican Republic',\n",
       "       'Ecuador', 'Egypt', 'Equatorial Guinea', 'Estonia', 'Ethiopia',\n",
       "       'Faeroe Islands', 'Finland', 'France', 'French Guiana',\n",
       "       'French Polynesia', 'Gabon', 'Georgia', 'Germany', 'Ghana',\n",
       "       'Gibraltar', 'Greece', 'Guadeloupe', 'Guatemala', 'Guernsey',\n",
       "       'Guinea', 'Guyana', 'Honduras', 'Hungary', 'Iceland', 'India',\n",
       "       'Indonesia', 'International', 'Iran', 'Iraq', 'Ireland', 'Israel',\n",
       "       'Italy', 'Jamaica', 'Japan', 'Jersey', 'Jordan', 'Kazakhstan',\n",
       "       'Kenya', 'Kuwait', 'Latvia', 'Lebanon', 'Liechtenstein',\n",
       "       'Lithuania', 'Luxembourg', 'Macedonia', 'Malaysia', 'Maldives',\n",
       "       'Malta', 'Martinique', 'Mauritania', 'Mayotte', 'Mexico',\n",
       "       'Moldova', 'Monaco', 'Mongolia', 'Morocco', 'Namibia', 'Nepal',\n",
       "       'Netherlands', 'New Zealand', 'Nigeria', 'Norway', 'Oman',\n",
       "       'Pakistan', 'Palestine', 'Panama', 'Paraguay', 'Peru',\n",
       "       'Philippines', 'Poland', 'Portugal', 'Puerto Rico', 'Qatar',\n",
       "       'Reunion', 'Romania', 'Russia', 'Rwanda', 'Saint Barthlemy',\n",
       "       'Saint Lucia', 'Saint Martin (French part)',\n",
       "       'Saint Vincent and the Grenadines', 'San Marino', 'Saudi Arabia',\n",
       "       'Senegal', 'Serbia', 'Seychelles', 'Singapore', 'Slovakia',\n",
       "       'Slovenia', 'South Africa', 'South Korea', 'Spain', 'Sri Lanka',\n",
       "       'Sudan', 'Suriname', 'Swaziland', 'Sweden', 'Switzerland',\n",
       "       'Thailand', 'Togo', 'Trinidad and Tobago', 'Tunisia', 'Turkey',\n",
       "       'Ukraine', 'United Arab Emirates', 'United Kingdom',\n",
       "       'United States', 'Uruguay', 'Uzbekistan', 'Vatican', 'Venezuela',\n",
       "       'Vietnam', 'World'], dtype=object)"
      ]
     },
     "execution_count": 4,
     "metadata": {},
     "output_type": "execute_result"
    }
   ],
   "source": [
    "np.unique(data_full[\"location\"])"
   ]
  },
  {
   "cell_type": "code",
   "execution_count": 5,
   "metadata": {},
   "outputs": [
    {
     "data": {
      "image/png": "[encoded data removed]",
      "text/plain": [
       "<Figure size 432x288 with 1 Axes>"
      ]
     },
     "metadata": {
      "needs_background": "light"
     },
     "output_type": "display_data"
    }
   ],
   "source": [
    "plt.hist(data_full[\"new_cases\"][isworldwide],histtype='stepfilled',alpha=0.6)\n",
    "plt.hist(data_full[\"new_cases\"][ischina],histtype='stepfilled',alpha=0.6)\n",
    "plt.show()"
   ]
  },
  {
   "cell_type": "code",
   "execution_count": 6,
   "metadata": {},
   "outputs": [],
   "source": [
    "from sklearn.linear_model import LogisticRegression\n",
    "from sklearn.metrics import classification_report, confusion_matrix"
   ]
  },
  {
   "cell_type": "code",
   "execution_count": 7,
   "metadata": {},
   "outputs": [],
   "source": [
    "model = LogisticRegression(solver='liblinear', random_state=0)"
   ]
  },
  {
   "cell_type": "code",
   "execution_count": 8,
   "metadata": {},
   "outputs": [
    {
     "data": {
      "text/plain": [
       "array([ 0,  1,  2,  3,  4,  5,  6,  7,  8,  9, 10, 11, 12, 13, 14, 15, 16,\n",
       "       17, 18, 19, 20, 21, 22, 23, 24, 25, 26, 27, 28, 29, 30, 31, 32, 33,\n",
       "       34, 35, 36, 37, 38, 39, 40, 41, 42, 43, 44, 45, 46, 47, 48, 49, 50,\n",
       "       51, 52, 53, 54, 55])"
      ]
     },
     "execution_count": 8,
     "metadata": {},
     "output_type": "execute_result"
    }
   ],
   "source": [
    "dates_world=np.arange(0,len(data_full[isworldwide]),1)\n",
    "dates_world"
   ]
  },
  {
   "cell_type": "code",
   "execution_count": 9,
   "metadata": {},
   "outputs": [
    {
     "data": {
      "text/plain": [
       "LogisticRegression(C=1.0, class_weight=None, dual=False, fit_intercept=True,\n",
       "                   intercept_scaling=1, l1_ratio=None, max_iter=100,\n",
       "                   multi_class='warn', n_jobs=None, penalty='l2',\n",
       "                   random_state=0, solver='liblinear', tol=0.0001, verbose=0,\n",
       "                   warm_start=False)"
      ]
     },
     "execution_count": 9,
     "metadata": {},
     "output_type": "execute_result"
    }
   ],
   "source": [
    "LogisticRegression(C=1.0, class_weight=None, dual=False, fit_intercept=True,\n",
    "                   intercept_scaling=1, l1_ratio=None, max_iter=100,\n",
    "                   multi_class='warn', n_jobs=None, penalty='l2',\n",
    "                   random_state=0, solver='liblinear', tol=0.0001, verbose=0,\n",
    "                   warm_start=False)"
   ]
  },
  {
   "cell_type": "code",
   "execution_count": 10,
   "metadata": {},
   "outputs": [],
   "source": [
    "model = LogisticRegression(solver='newton-cg', random_state=0).fit(dates_world.reshape(-1,1), np.array(data_full[isworldwide][\"total_cases\"]))"
   ]
  },
  {
   "cell_type": "code",
   "execution_count": 11,
   "metadata": {},
   "outputs": [
    {
     "data": {
      "text/plain": [
       "array([   282.,    314.,    581.,    846.,   1320.,   2014.,   2798.,\n",
       "         4593.,   6065.,   7818.,   9826.,  11953.,  14557.,  17391.,\n",
       "        20630.,  24544.,  28276.,  31481.,  34886.,  37558.,  40554.,\n",
       "        43103.,  45171.,  46997.,  49053.,  50580.,  51857.,  71429.,\n",
       "        73332.,  75204.,  75748.,  76769.,  77794.,  78811.,  79331.,\n",
       "        80239.,  81109.,  82294.,  83652.,  85403.,  87137.,  88948.,\n",
       "        90869.,  93090.,  95324.,  98192., 101927., 105592., 109577.,\n",
       "       113702., 118319., 125260., 132758., 142539., 153523., 167502.])"
      ]
     },
     "execution_count": 11,
     "metadata": {},
     "output_type": "execute_result"
    }
   ],
   "source": [
    "model.classes_"
   ]
  },
  {
   "cell_type": "code",
   "execution_count": 12,
   "metadata": {},
   "outputs": [
    {
     "data": {
      "text/plain": [
       "array([ 22.10225032,  21.69459083,  21.28456504,  20.87242436,\n",
       "        20.45545963,  20.03074567,  19.59586863,  19.14896921,\n",
       "        18.68871587,  18.21397692,  17.72417438,  17.21848664,\n",
       "        16.69652957,  16.15791012,  15.60200168,  15.02853249,\n",
       "        14.43693237,  13.82659981,  13.19699657,  12.54752644,\n",
       "        11.8773054 ,  11.18555938,  10.4714169 ,   9.73395826,\n",
       "         8.97203853,   8.18454186,   7.3701381 ,   6.52735757,\n",
       "         5.65472725,   4.75048099,   3.81259018,   2.8389629 ,\n",
       "         1.82725514,   0.77467461,  -0.32189337,  -1.46592518,\n",
       "        -2.6614575 ,  -3.91306713,  -5.22590704,  -6.60608671,\n",
       "        -8.06098517,  -9.59926984, -11.231062  , -12.96866362,\n",
       "       -14.82756781, -16.82735986, -18.99296126, -21.35725635,\n",
       "       -23.96562707, -26.88266276, -30.20312203, -34.0725396 ,\n",
       "       -38.72712999, -44.57482303, -52.37414495, -63.64475133])"
      ]
     },
     "execution_count": 12,
     "metadata": {},
     "output_type": "execute_result"
    }
   ],
   "source": [
    "model.intercept_"
   ]
  },
  {
   "cell_type": "code",
   "execution_count": 13,
   "metadata": {},
   "outputs": [
    {
     "data": {
      "text/plain": [
       "array([[-1.55906384],\n",
       "       [-1.34673626],\n",
       "       [-1.19744726],\n",
       "       [-1.08362468],\n",
       "       [-0.99141722],\n",
       "       [-0.91334409],\n",
       "       [-0.84506495],\n",
       "       [-0.78389789],\n",
       "       [-0.72810242],\n",
       "       [-0.6764809 ],\n",
       "       [-0.62821004],\n",
       "       [-0.58265666],\n",
       "       [-0.53936619],\n",
       "       [-0.49798162],\n",
       "       [-0.45820316],\n",
       "       [-0.41980864],\n",
       "       [-0.38259807],\n",
       "       [-0.34640327],\n",
       "       [-0.31108577],\n",
       "       [-0.27652483],\n",
       "       [-0.24260349],\n",
       "       [-0.20922563],\n",
       "       [-0.17630336],\n",
       "       [-0.1437576 ],\n",
       "       [-0.11150968],\n",
       "       [-0.079491  ],\n",
       "       [-0.04763247],\n",
       "       [-0.01586727],\n",
       "       [ 0.0158648 ],\n",
       "       [ 0.04762803],\n",
       "       [ 0.07948922],\n",
       "       [ 0.1115111 ],\n",
       "       [ 0.14375878],\n",
       "       [ 0.17630531],\n",
       "       [ 0.2092271 ],\n",
       "       [ 0.2426048 ],\n",
       "       [ 0.27652836],\n",
       "       [ 0.31109556],\n",
       "       [ 0.34641231],\n",
       "       [ 0.38260171],\n",
       "       [ 0.41981026],\n",
       "       [ 0.4582062 ],\n",
       "       [ 0.49798174],\n",
       "       [ 0.53936822],\n",
       "       [ 0.58265606],\n",
       "       [ 0.62821038],\n",
       "       [ 0.67649267],\n",
       "       [ 0.72811054],\n",
       "       [ 0.78390329],\n",
       "       [ 0.84506494],\n",
       "       [ 0.91334379],\n",
       "       [ 0.99141924],\n",
       "       [ 1.0836296 ],\n",
       "       [ 1.19744404],\n",
       "       [ 1.34670382],\n",
       "       [ 1.55903639]])"
      ]
     },
     "execution_count": 13,
     "metadata": {},
     "output_type": "execute_result"
    }
   ],
   "source": [
    "model.coef_"
   ]
  },
  {
   "cell_type": "code",
   "execution_count": 14,
   "metadata": {},
   "outputs": [
    {
     "data": {
      "text/plain": [
       "array([[3.40671226e-01, 2.26616322e-01, 1.50390100e-01, ...,\n",
       "        3.75707985e-30, 1.54045123e-33, 1.96284406e-38],\n",
       "       [2.50360978e-01, 2.05937325e-01, 1.58671351e-01, ...,\n",
       "        4.34728160e-29, 2.06936930e-32, 3.26054883e-37],\n",
       "       [1.71100469e-01, 1.74033289e-01, 1.55679406e-01, ...,\n",
       "        4.67776605e-28, 2.58512427e-31, 5.03673379e-36],\n",
       "       ...,\n",
       "       [5.02914946e-36, 2.58061496e-31, 4.67656420e-28, ...,\n",
       "        1.55677593e-01, 1.74031034e-01, 1.71100931e-01],\n",
       "       [3.25559566e-37, 2.06572177e-32, 4.34621199e-29, ...,\n",
       "        1.58671230e-01, 2.05930882e-01, 2.50358314e-01],\n",
       "       [1.95984854e-38, 1.53771755e-33, 3.75622017e-30, ...,\n",
       "        1.50392576e-01, 2.26606514e-01, 3.40665217e-01]])"
      ]
     },
     "execution_count": 14,
     "metadata": {},
     "output_type": "execute_result"
    }
   ],
   "source": [
    "model.predict_proba(dates_world.reshape(-1,1))"
   ]
  },
  {
   "cell_type": "code",
   "execution_count": 15,
   "metadata": {},
   "outputs": [
    {
     "data": {
      "text/plain": [
       "array([   282.,    282.,    314.,    581.,    846.,   1320.,   2014.,\n",
       "         2798.,   4593.,   6065.,   7818.,   9826.,  11953.,  14557.,\n",
       "        20630.,  24544.,  28276.,  31481.,  34886.,  37558.,  40554.,\n",
       "        43103.,  45171.,  46997.,  49053.,  50580.,  51857.,  71429.,\n",
       "        73332.,  75204.,  75748.,  76769.,  77794.,  78811.,  79331.,\n",
       "        80239.,  81109.,  82294.,  83652.,  85403.,  87137.,  88948.,\n",
       "        93090.,  95324.,  98192., 101927., 105592., 109577., 113702.,\n",
       "       118319., 125260., 132758., 142539., 153523., 167502., 167502.])"
      ]
     },
     "execution_count": 15,
     "metadata": {},
     "output_type": "execute_result"
    }
   ],
   "source": [
    "model.predict(dates_world.reshape(-1,1))"
   ]
  },
  {
   "cell_type": "code",
   "execution_count": 16,
   "metadata": {},
   "outputs": [
    {
     "data": {
      "text/plain": [
       "0.5357142857142857"
      ]
     },
     "execution_count": 16,
     "metadata": {},
     "output_type": "execute_result"
    }
   ],
   "source": [
    "model.score(dates_world.reshape(-1,1), np.array(data_full[isworldwide][\"total_cases\"]))"
   ]
  },
  {
   "cell_type": "markdown",
   "metadata": {},
   "source": [
    "## The model\n",
    "We try to fit model of grows by mean of a logistic equation plus a relaxion term:\n",
    "\n",
    "$f=\\frac{a}{1+e^{-bt+c}}+(1+e^{-dt+e})$"
   ]
  },
  {
   "cell_type": "markdown",
   "metadata": {},
   "source": [
    "In the case of colombia.."
   ]
  },
  {
   "cell_type": "code",
   "execution_count": 17,
   "metadata": {},
   "outputs": [],
   "source": [
    "from scipy.optimize import curve_fit\n",
    "def growth(t,a,b,c):\n",
    "    return (a)/(1+np.exp(-b*t+c))#+(1+np.exp(-d*t+e))"
   ]
  },
  {
   "cell_type": "code",
   "execution_count": 18,
   "metadata": {},
   "outputs": [],
   "source": [
    "popt, pcov = curve_fit(growth, np.arange(0,len(data_full[\"total_cases\"][iscolombia]),1), np.array(data_full[\"total_cases\"][iscolombia]))"
   ]
  },
  {
   "cell_type": "code",
   "execution_count": 19,
   "metadata": {},
   "outputs": [
    {
     "data": {
      "text/plain": [
       "array([30.84853128,  0.68663325,  4.66572968])"
      ]
     },
     "execution_count": 19,
     "metadata": {},
     "output_type": "execute_result"
    }
   ],
   "source": [
    "popt"
   ]
  },
  {
   "cell_type": "code",
   "execution_count": 20,
   "metadata": {},
   "outputs": [
    {
     "data": {
      "image/png": "[encoded data removed]",
      "text/plain": [
       "<Figure size 576x432 with 1 Axes>"
      ]
     },
     "metadata": {
      "needs_background": "light"
     },
     "output_type": "display_data"
    }
   ],
   "source": [
    "plt.figure(figsize=(8,6))\n",
    "plt.plot(data_full[\"date\"][iscolombia],data_full[\"total_cases\"][iscolombia],label=\"Colombia\",marker=\".\",markersize=12)\n",
    "plt.plot(np.arange(0,len(data_full[\"total_cases\"][iscolombia]),1), growth(np.arange(0,len(data_full[\"total_cases\"][iscolombia]),1), *popt),label=\"Best fit Colombia\")\n",
    "plt.legend()\n",
    "plt.xticks(rotation=90)\n",
    "plt.show()"
   ]
  },
  {
   "cell_type": "markdown",
   "metadata": {},
   "source": [
    "Estimation for future days."
   ]
  },
  {
   "cell_type": "code",
   "execution_count": 21,
   "metadata": {},
   "outputs": [],
   "source": [
    "rng = pd.date_range(data_full[\"date\"][iscolombia].iloc[0], periods=25, freq='D')\n",
    "df = pd.DataFrame({ 'Date': rng, 'Val': growth(np.arange(0,len(rng),1), *popt) }) \n",
    "#df"
   ]
  },
  {
   "cell_type": "code",
   "execution_count": 22,
   "metadata": {},
   "outputs": [
    {
     "data": {
      "image/png": "[encoded data removed]",
      "text/plain": [
       "<Figure size 576x432 with 1 Axes>"
      ]
     },
     "metadata": {
      "needs_background": "light"
     },
     "output_type": "display_data"
    }
   ],
   "source": [
    "plt.figure(figsize=(8,6))\n",
    "#plt.plot(data_full[\"date\"][iscolombia],data_full[\"total_cases\"][iscolombia],label=\"Colombia\",marker=\".\",markersize=12)\n",
    "plt.plot(df[\"Date\"], df[\"Val\"],label=\"Best fit Colombia\",marker=\".\",markersize=12)\n",
    "plt.legend()\n",
    "plt.xticks(rotation=90)\n",
    "plt.show()"
   ]
  },
  {
   "cell_type": "code",
   "execution_count": 23,
   "metadata": {},
   "outputs": [
    {
     "data": {
      "text/html": [
       "<div>\n",
       "<style scoped>\n",
       "    .dataframe tbody tr th:only-of-type {\n",
       "        vertical-align: middle;\n",
       "    }\n",
       "\n",
       "    .dataframe tbody tr th {\n",
       "        vertical-align: top;\n",
       "    }\n",
       "\n",
       "    .dataframe thead th {\n",
       "        text-align: right;\n",
       "    }\n",
       "</style>\n",
       "<table border=\"1\" class=\"dataframe\">\n",
       "  <thead>\n",
       "    <tr style=\"text-align: right;\">\n",
       "      <th></th>\n",
       "      <th>Date</th>\n",
       "      <th>Val</th>\n",
       "    </tr>\n",
       "  </thead>\n",
       "  <tbody>\n",
       "    <tr>\n",
       "      <th>0</th>\n",
       "      <td>2020-03-07</td>\n",
       "      <td>0.287651</td>\n",
       "    </tr>\n",
       "    <tr>\n",
       "      <th>1</th>\n",
       "      <td>2020-03-08</td>\n",
       "      <td>0.566353</td>\n",
       "    </tr>\n",
       "    <tr>\n",
       "      <th>2</th>\n",
       "      <td>2020-03-09</td>\n",
       "      <td>1.105323</td>\n",
       "    </tr>\n",
       "    <tr>\n",
       "      <th>3</th>\n",
       "      <td>2020-03-10</td>\n",
       "      <td>2.121273</td>\n",
       "    </tr>\n",
       "    <tr>\n",
       "      <th>4</th>\n",
       "      <td>2020-03-11</td>\n",
       "      <td>3.947106</td>\n",
       "    </tr>\n",
       "    <tr>\n",
       "      <th>5</th>\n",
       "      <td>2020-03-12</td>\n",
       "      <td>6.963534</td>\n",
       "    </tr>\n",
       "    <tr>\n",
       "      <th>6</th>\n",
       "      <td>2020-03-13</td>\n",
       "      <td>11.315524</td>\n",
       "    </tr>\n",
       "    <tr>\n",
       "      <th>7</th>\n",
       "      <td>2020-03-14</td>\n",
       "      <td>16.507600</td>\n",
       "    </tr>\n",
       "    <tr>\n",
       "      <th>8</th>\n",
       "      <td>2020-03-15</td>\n",
       "      <td>21.464143</td>\n",
       "    </tr>\n",
       "    <tr>\n",
       "      <th>9</th>\n",
       "      <td>2020-03-16</td>\n",
       "      <td>25.284960</td>\n",
       "    </tr>\n",
       "    <tr>\n",
       "      <th>10</th>\n",
       "      <td>2020-03-17</td>\n",
       "      <td>27.773045</td>\n",
       "    </tr>\n",
       "    <tr>\n",
       "      <th>11</th>\n",
       "      <td>2020-03-18</td>\n",
       "      <td>29.220094</td>\n",
       "    </tr>\n",
       "    <tr>\n",
       "      <th>12</th>\n",
       "      <td>2020-03-19</td>\n",
       "      <td>30.006923</td>\n",
       "    </tr>\n",
       "    <tr>\n",
       "      <th>13</th>\n",
       "      <td>2020-03-20</td>\n",
       "      <td>30.419159</td>\n",
       "    </tr>\n",
       "    <tr>\n",
       "      <th>14</th>\n",
       "      <td>2020-03-21</td>\n",
       "      <td>30.630937</td>\n",
       "    </tr>\n",
       "    <tr>\n",
       "      <th>15</th>\n",
       "      <td>2020-03-22</td>\n",
       "      <td>30.738638</td>\n",
       "    </tr>\n",
       "    <tr>\n",
       "      <th>16</th>\n",
       "      <td>2020-03-23</td>\n",
       "      <td>30.793128</td>\n",
       "    </tr>\n",
       "    <tr>\n",
       "      <th>17</th>\n",
       "      <td>2020-03-24</td>\n",
       "      <td>30.820624</td>\n",
       "    </tr>\n",
       "    <tr>\n",
       "      <th>18</th>\n",
       "      <td>2020-03-25</td>\n",
       "      <td>30.834480</td>\n",
       "    </tr>\n",
       "    <tr>\n",
       "      <th>19</th>\n",
       "      <td>2020-03-26</td>\n",
       "      <td>30.841458</td>\n",
       "    </tr>\n",
       "    <tr>\n",
       "      <th>20</th>\n",
       "      <td>2020-03-27</td>\n",
       "      <td>30.844971</td>\n",
       "    </tr>\n",
       "    <tr>\n",
       "      <th>21</th>\n",
       "      <td>2020-03-28</td>\n",
       "      <td>30.846739</td>\n",
       "    </tr>\n",
       "    <tr>\n",
       "      <th>22</th>\n",
       "      <td>2020-03-29</td>\n",
       "      <td>30.847630</td>\n",
       "    </tr>\n",
       "    <tr>\n",
       "      <th>23</th>\n",
       "      <td>2020-03-30</td>\n",
       "      <td>30.848077</td>\n",
       "    </tr>\n",
       "    <tr>\n",
       "      <th>24</th>\n",
       "      <td>2020-03-31</td>\n",
       "      <td>30.848303</td>\n",
       "    </tr>\n",
       "  </tbody>\n",
       "</table>\n",
       "</div>"
      ],
      "text/plain": [
       "         Date        Val\n",
       "0  2020-03-07   0.287651\n",
       "1  2020-03-08   0.566353\n",
       "2  2020-03-09   1.105323\n",
       "3  2020-03-10   2.121273\n",
       "4  2020-03-11   3.947106\n",
       "5  2020-03-12   6.963534\n",
       "6  2020-03-13  11.315524\n",
       "7  2020-03-14  16.507600\n",
       "8  2020-03-15  21.464143\n",
       "9  2020-03-16  25.284960\n",
       "10 2020-03-17  27.773045\n",
       "11 2020-03-18  29.220094\n",
       "12 2020-03-19  30.006923\n",
       "13 2020-03-20  30.419159\n",
       "14 2020-03-21  30.630937\n",
       "15 2020-03-22  30.738638\n",
       "16 2020-03-23  30.793128\n",
       "17 2020-03-24  30.820624\n",
       "18 2020-03-25  30.834480\n",
       "19 2020-03-26  30.841458\n",
       "20 2020-03-27  30.844971\n",
       "21 2020-03-28  30.846739\n",
       "22 2020-03-29  30.847630\n",
       "23 2020-03-30  30.848077\n",
       "24 2020-03-31  30.848303"
      ]
     },
     "execution_count": 23,
     "metadata": {},
     "output_type": "execute_result"
    }
   ],
   "source": [
    "df"
   ]
  },
  {
   "cell_type": "code",
   "execution_count": null,
   "metadata": {},
   "outputs": [],
   "source": []
  }
 ],
 "metadata": {
  "kernelspec": {
   "display_name": "Python 3",
   "language": "python",
   "name": "python3"
  },
  "language_info": {
   "codemirror_mode": {
    "name": "ipython",
    "version": 3
   },
   "file_extension": ".py",
   "mimetype": "text/x-python",
   "name": "python",
   "nbconvert_exporter": "python",
   "pygments_lexer": "ipython3",
   "version": "3.7.5"
  }
 },
 "nbformat": 4,
 "nbformat_minor": 4
}
